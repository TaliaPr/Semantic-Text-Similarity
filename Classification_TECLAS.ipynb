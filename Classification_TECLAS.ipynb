{
 "cells": [
  {
   "cell_type": "markdown",
   "id": "277ddaed",
   "metadata": {},
   "source": [
    "# Text Classification with TECLA Dataset\n",
    "\n",
    "This notebook demonstrates how to load and use the TECLA dataset from Hugging Face's datasets library for text classification tasks in Catalan language.\n",
    "\n",
    "TECLA (TEChniques for LAnguage processing) is a dataset for Catalan text classification tasks."
   ]
  },
  {
   "cell_type": "code",
   "execution_count": null,
   "id": "b02577f6",
   "metadata": {},
   "outputs": [],
   "source": [
    "# Cargar el dataset de projecte-aina/tecla desde Hugging Face\n",
    "from datasets import load_dataset\n",
    "\n",
    "# Cargar el dataset TECLA\n",
    "tecla_dataset = load_dataset(\"projecte-aina/tecla\")\n",
    "\n",
    "# Mostrar información sobre el dataset\n",
    "print(f\"Claves del dataset: {tecla_dataset.keys()}\")\n",
    "print(f\"Tamaño del conjunto de entrenamiento: {len(tecla_dataset['train'])}\")\n",
    "print(f\"Tamaño del conjunto de validación: {len(tecla_dataset['validation'])}\")\n",
    "print(f\"Tamaño del conjunto de prueba: {len(tecla_dataset['test'])}\")\n",
    "\n",
    "# Mostrar un ejemplo de los datos\n",
    "print(\"\\nEjemplo de los datos:\")\n",
    "print(tecla_dataset['train'][0])\n",
    "\n",
    "# Explorar las clases/etiquetas disponibles\n",
    "labels = set(tecla_dataset['train']['label'])\n",
    "print(f\"\\nNúmero de clases en el dataset: {len(labels)}\")\n",
    "print(f\"Clases disponibles: {labels}\")"
   ]
  }
 ],
 "metadata": {
  "language_info": {
   "name": "python"
  }
 },
 "nbformat": 4,
 "nbformat_minor": 5
}
